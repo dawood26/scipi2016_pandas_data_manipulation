{
 "cells": [
  {
   "cell_type": "code",
   "execution_count": 1,
   "metadata": {},
   "outputs": [],
   "source": [
    "import pandas as pd\n",
    "import numpy as np"
   ]
  },
  {
   "cell_type": "code",
   "execution_count": 5,
   "metadata": {},
   "outputs": [
    {
     "data": {
      "text/plain": [
       "DatetimeIndex(['2016-07-15 10:15:00', '2016-07-15 18:15:00',\n",
       "               '2016-07-16 02:15:00', '2016-07-16 10:15:00',\n",
       "               '2016-07-16 18:15:00', '2016-07-17 02:15:00',\n",
       "               '2016-07-17 10:15:00', '2016-07-17 18:15:00',\n",
       "               '2016-07-18 02:15:00', '2016-07-18 10:15:00',\n",
       "               '2016-07-18 18:15:00', '2016-07-19 02:15:00',\n",
       "               '2016-07-19 10:15:00', '2016-07-19 18:15:00',\n",
       "               '2016-07-20 02:15:00', '2016-07-20 10:15:00',\n",
       "               '2016-07-20 18:15:00', '2016-07-21 02:15:00',\n",
       "               '2016-07-21 10:15:00', '2016-07-21 18:15:00'],\n",
       "              dtype='datetime64[ns]', freq='8H')"
      ]
     },
     "execution_count": 5,
     "metadata": {},
     "output_type": "execute_result"
    }
   ],
   "source": [
    "#start,end,intervals(frequency),period etc\n",
    "pd.date_range('2016 Jul 15 10:15',periods = 20,freq='8H')"
   ]
  },
  {
   "cell_type": "code",
   "execution_count": 7,
   "metadata": {},
   "outputs": [],
   "source": [
    "#Time stamp read more about timestamp in pandas\n",
    "mydate=pd.Timestamp('2018-04-16 10:14:45')"
   ]
  },
  {
   "cell_type": "code",
   "execution_count": 11,
   "metadata": {},
   "outputs": [],
   "source": [
    "mydate2=mydate + pd.Timedelta('1.5 hours')"
   ]
  },
  {
   "cell_type": "code",
   "execution_count": 12,
   "metadata": {},
   "outputs": [
    {
     "data": {
      "text/plain": [
       "Timestamp('2018-04-16 11:44:45')"
      ]
     },
     "execution_count": 12,
     "metadata": {},
     "output_type": "execute_result"
    }
   ],
   "source": [
    "mydate2"
   ]
  },
  {
   "cell_type": "code",
   "execution_count": null,
   "metadata": {},
   "outputs": [],
   "source": []
  }
 ],
 "metadata": {
  "kernelspec": {
   "display_name": "Python 3",
   "language": "python",
   "name": "python3"
  },
  "language_info": {
   "codemirror_mode": {
    "name": "ipython",
    "version": 3
   },
   "file_extension": ".py",
   "mimetype": "text/x-python",
   "name": "python",
   "nbconvert_exporter": "python",
   "pygments_lexer": "ipython3",
   "version": "3.5.2"
  }
 },
 "nbformat": 4,
 "nbformat_minor": 2
}
